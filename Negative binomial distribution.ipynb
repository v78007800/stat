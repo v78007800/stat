{
 "cells": [
  {
   "cell_type": "markdown",
   "metadata": {},
   "source": [
    "Отрицательное биномиальное распределение"
   ]
  },
  {
   "cell_type": "markdown",
   "metadata": {},
   "source": [
    "сколько неудач случится пока мы не досигнем k удач при р-вероятность удачи в N испытаниях"
   ]
  },
  {
   "cell_type": "code",
   "execution_count": 25,
   "metadata": {},
   "outputs": [
    {
     "name": "stderr",
     "output_type": "stream",
     "text": [
      "C:\\ProgramData\\Anaconda\\lib\\site-packages\\ipykernel_launcher.py:12: DeprecationWarning: `comb` is deprecated!\n",
      "Importing `comb` from scipy.misc is deprecated in scipy 1.0.0. Use `scipy.special.comb` instead.\n",
      "  if sys.path[0] == '':\n"
     ]
    },
    {
     "name": "stdout",
     "output_type": "stream",
     "text": [
      "err = 2.181414771040835e-16\n"
     ]
    },
    {
     "data": {
      "image/png": "[encoded data removed]",
      "text/plain": [
       "<Figure size 432x288 with 1 Axes>"
      ]
     },
     "metadata": {
      "needs_background": "light"
     },
     "output_type": "display_data"
    }
   ],
   "source": [
    "%matplotlib inline\n",
    "import matplotlib.pyplot as plt\n",
    "import numpy as np\n",
    "from scipy.stats import nbinom\n",
    "from scipy.misc import comb as choose\n",
    "N = 12\n",
    "p = 0.55\n",
    "k = 10 #количество success\n",
    "\n",
    "suc = np.zeros(N)\n",
    "for r in range(N):\n",
    "    suc[r] = choose(r+k-1,k-1)*p**k*(1-p)**r\n",
    "\n",
    "dis = nbinom.pmf(range(N),k,p)\n",
    "# dis == suc\n",
    "err = sum(dis-suc)\n",
    "print(\"err =\",err)\n",
    "plt.bar(range(N),suc, color='gray')\n",
    "plt.xlabel('r fails')\n",
    "plt.ylabel('{} suc with 0:{} fails'.format(k,N-1))\n",
    "plt.title('Negative Binomial Distribution, p = {}'.format(p))\n",
    "plt.show()"
   ]
  },
  {
   "cell_type": "code",
   "execution_count": null,
   "metadata": {},
   "outputs": [],
   "source": []
  }
 ],
 "metadata": {
  "kernelspec": {
   "display_name": "Python 3",
   "language": "python",
   "name": "python3"
  },
  "language_info": {
   "codemirror_mode": {
    "name": "ipython",
    "version": 3
   },
   "file_extension": ".py",
   "mimetype": "text/x-python",
   "name": "python",
   "nbconvert_exporter": "python",
   "pygments_lexer": "ipython3",
   "version": "3.7.3"
  }
 },
 "nbformat": 4,
 "nbformat_minor": 2
}
